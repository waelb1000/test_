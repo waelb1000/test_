{
 "cells": [
  {
   "cell_type": "code",
   "execution_count": 2,
   "metadata": {},
   "outputs": [],
   "source": [
    "import numpy as np \n",
    "import pandas as pd "
   ]
  },
  {
   "cell_type": "code",
   "execution_count": 20,
   "metadata": {},
   "outputs": [
    {
     "data": {
      "text/plain": [
       "numpy.datetime64('2020-12-16T20:35:45.000000000')"
      ]
     },
     "execution_count": 20,
     "metadata": {},
     "output_type": "execute_result"
    }
   ],
   "source": [
    "#objet datetime64 de numpy avec la granularité la nanoseconde\n",
    "np.datetime64(\"2020-12-16T20:35:45\", 'ns')"
   ]
  },
  {
   "cell_type": "code",
   "execution_count": 24,
   "metadata": {},
   "outputs": [
    {
     "data": {
      "text/plain": [
       "Timestamp('1994-12-16 22:30:00')"
      ]
     },
     "execution_count": 24,
     "metadata": {},
     "output_type": "execute_result"
    }
   ],
   "source": [
    "pd.to_datetime(\"16 december 1994 22h30\")"
   ]
  },
  {
   "cell_type": "code",
   "execution_count": 30,
   "metadata": {},
   "outputs": [],
   "source": [
    "index = pd.date_range(\"01 january 2022\", periods= 1000, freq=\"M\" )"
   ]
  },
  {
   "cell_type": "code",
   "execution_count": 31,
   "metadata": {},
   "outputs": [
    {
     "data": {
      "text/plain": [
       "DatetimeIndex(['2022-01-31', '2022-02-28', '2022-03-31', '2022-04-30',\n",
       "               '2022-05-31', '2022-06-30', '2022-07-31', '2022-08-31',\n",
       "               '2022-09-30', '2022-10-31',\n",
       "               ...\n",
       "               '2104-07-31', '2104-08-31', '2104-09-30', '2104-10-31',\n",
       "               '2104-11-30', '2104-12-31', '2105-01-31', '2105-02-28',\n",
       "               '2105-03-31', '2105-04-30'],\n",
       "              dtype='datetime64[ns]', length=1000, freq='M')"
      ]
     },
     "execution_count": 31,
     "metadata": {},
     "output_type": "execute_result"
    }
   ],
   "source": [
    "index"
   ]
  },
  {
   "cell_type": "code",
   "execution_count": 33,
   "metadata": {},
   "outputs": [],
   "source": [
    "index = pd.date_range(\"01 january 2022\", periods= 1000, freq=\"46h38min\" )"
   ]
  },
  {
   "cell_type": "code",
   "execution_count": 35,
   "metadata": {},
   "outputs": [
    {
     "data": {
      "text/plain": [
       "DatetimeIndex(['2022-01-01 00:00:00', '2022-01-02 22:38:00',\n",
       "               '2022-01-04 21:16:00', '2022-01-06 19:54:00',\n",
       "               '2022-01-08 18:32:00', '2022-01-10 17:10:00',\n",
       "               '2022-01-12 15:48:00', '2022-01-14 14:26:00',\n",
       "               '2022-01-16 13:04:00', '2022-01-18 11:42:00',\n",
       "               ...\n",
       "               '2027-04-08 15:00:00', '2027-04-10 13:38:00',\n",
       "               '2027-04-12 12:16:00', '2027-04-14 10:54:00',\n",
       "               '2027-04-16 09:32:00', '2027-04-18 08:10:00',\n",
       "               '2027-04-20 06:48:00', '2027-04-22 05:26:00',\n",
       "               '2027-04-24 04:04:00', '2027-04-26 02:42:00'],\n",
       "              dtype='datetime64[ns]', length=1000, freq='2798T')"
      ]
     },
     "execution_count": 35,
     "metadata": {},
     "output_type": "execute_result"
    }
   ],
   "source": [
    "index"
   ]
  },
  {
   "cell_type": "code",
   "execution_count": 38,
   "metadata": {},
   "outputs": [],
   "source": [
    "s = pd.Series(np.random.randint(1000,size=(1000)), index=index)"
   ]
  },
  {
   "cell_type": "code",
   "execution_count": 40,
   "metadata": {},
   "outputs": [
    {
     "data": {
      "text/plain": [
       "2022-01-01 00:00:00    711\n",
       "2022-01-02 22:38:00    186\n",
       "2022-01-04 21:16:00    495\n",
       "2022-01-06 19:54:00     29\n",
       "2022-01-08 18:32:00    687\n",
       "                      ... \n",
       "2027-04-18 08:10:00    568\n",
       "2027-04-20 06:48:00    370\n",
       "2027-04-22 05:26:00    844\n",
       "2027-04-24 04:04:00    460\n",
       "2027-04-26 02:42:00    646\n",
       "Freq: 2798T, Length: 1000, dtype: int64"
      ]
     },
     "execution_count": 40,
     "metadata": {},
     "output_type": "execute_result"
    }
   ],
   "source": [
    "s"
   ]
  },
  {
   "cell_type": "code",
   "execution_count": 42,
   "metadata": {},
   "outputs": [
    {
     "data": {
      "text/plain": [
       "2022-12-12 20:44:00    897\n",
       "2022-12-14 19:22:00    862\n",
       "2022-12-16 18:00:00    405\n",
       "2022-12-18 16:38:00    298\n",
       "2022-12-20 15:16:00    419\n",
       "                      ... \n",
       "2023-12-24 19:36:00    545\n",
       "2023-12-26 18:14:00    219\n",
       "2023-12-28 16:52:00    771\n",
       "2023-12-30 15:30:00     38\n",
       "2024-01-01 14:08:00    304\n",
       "Freq: 2798T, Length: 199, dtype: int64"
      ]
     },
     "execution_count": 42,
     "metadata": {},
     "output_type": "execute_result"
    }
   ],
   "source": [
    "s['12 dec 2022': \"01 jan 2024\"]"
   ]
  },
  {
   "cell_type": "code",
   "execution_count": 43,
   "metadata": {},
   "outputs": [],
   "source": [
    "s.resample"
   ]
  }
 ],
 "metadata": {
  "kernelspec": {
   "display_name": "Python 3",
   "language": "python",
   "name": "python3"
  },
  "language_info": {
   "codemirror_mode": {
    "name": "ipython",
    "version": 3
   },
   "file_extension": ".py",
   "mimetype": "text/x-python",
   "name": "python",
   "nbconvert_exporter": "python",
   "pygments_lexer": "ipython3",
   "version": "3.7.6"
  }
 },
 "nbformat": 4,
 "nbformat_minor": 4
}
